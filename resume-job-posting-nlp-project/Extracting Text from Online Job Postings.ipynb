{
 "cells": [
  {
   "cell_type": "markdown",
   "metadata": {},
   "source": [
    "# Extracting Text from Online Job Postings"
   ]
  },
  {
   "cell_type": "markdown",
   "metadata": {},
   "source": [
    "Reading in html documents and extracting the title, body and bullets"
   ]
  },
  {
   "cell_type": "markdown",
   "metadata": {},
   "source": [
    "## Import required packages"
   ]
  },
  {
   "cell_type": "code",
   "execution_count": 1,
   "metadata": {
    "collapsed": true
   },
   "outputs": [],
   "source": [
    "import glob\n",
    "import pandas as pd\n",
    "import os\n",
    "import requests\n",
    "from bs4 import BeautifulSoup\n",
    "import pickle"
   ]
  },
  {
   "cell_type": "markdown",
   "metadata": {},
   "source": [
    "Check the working directory"
   ]
  },
  {
   "cell_type": "code",
   "execution_count": 2,
   "metadata": {
    "collapsed": false
   },
   "outputs": [
    {
     "data": {
      "text/plain": [
       "'E:\\\\resume-job-posting-nlp-project'"
      ]
     },
     "execution_count": 2,
     "metadata": {},
     "output_type": "execute_result"
    }
   ],
   "source": [
    "os.getcwd()"
   ]
  },
  {
   "cell_type": "markdown",
   "metadata": {},
   "source": [
    "## Load in the html files and parse them"
   ]
  },
  {
   "cell_type": "code",
   "execution_count": 3,
   "metadata": {
    "collapsed": false
   },
   "outputs": [],
   "source": [
    "# path to the data files\n",
    "path = \"./data/html_job_postings/*.html\"\n",
    "\n",
    "# functions to read in all the files in the data folder\n",
    "def read_files_in_folder(path):\n",
    "    job_df = pd.DataFrame(columns=['title', 'body','bullets'])\n",
    "    files = glob.glob(path)\n",
    "    for file in files:\n",
    "        with open(file, 'r', encoding='utf-8') as f:\n",
    "            html_string = f.read()\n",
    "        soup = BeautifulSoup(html_string,'lxml')\n",
    "        title = soup.find_all('title')[0]\n",
    "        body = soup.find_all('body')[0]\n",
    "        bullets = [bullet.text for bullet in  body.find_all('li')]\n",
    "        f.close()\n",
    "        job_df = job_df.append({'title':title.text, 'body':body.text, 'bullets':bullets}, ignore_index=True)\n",
    "    return job_df\n",
    "\n",
    "df = read_files_in_folder(path)"
   ]
  },
  {
   "cell_type": "markdown",
   "metadata": {},
   "source": [
    "Check the parsed information in the dataframe"
   ]
  },
  {
   "cell_type": "code",
   "execution_count": 4,
   "metadata": {
    "collapsed": false
   },
   "outputs": [
    {
     "data": {
      "text/html": [
       "<div>\n",
       "<style scoped>\n",
       "    .dataframe tbody tr th:only-of-type {\n",
       "        vertical-align: middle;\n",
       "    }\n",
       "\n",
       "    .dataframe tbody tr th {\n",
       "        vertical-align: top;\n",
       "    }\n",
       "\n",
       "    .dataframe thead th {\n",
       "        text-align: right;\n",
       "    }\n",
       "</style>\n",
       "<table border=\"1\" class=\"dataframe\">\n",
       "  <thead>\n",
       "    <tr style=\"text-align: right;\">\n",
       "      <th></th>\n",
       "      <th>title</th>\n",
       "      <th>body</th>\n",
       "      <th>bullets</th>\n",
       "    </tr>\n",
       "  </thead>\n",
       "  <tbody>\n",
       "    <tr>\n",
       "      <th>0</th>\n",
       "      <td>Data Engineer - Columbus, GA 31909</td>\n",
       "      <td>Data Engineer - Columbus, GA 31909\\nCelebratin...</td>\n",
       "      <td>[Bachelor’s or Master’s degree in statistics, ...</td>\n",
       "    </tr>\n",
       "    <tr>\n",
       "      <th>1</th>\n",
       "      <td>Data Analyst - St. Louis, MO</td>\n",
       "      <td>Data Analyst - St. Louis, MO\\nDuties\\nSummary\\...</td>\n",
       "      <td>[Job family (Series)\\n1501 General Mathematics...</td>\n",
       "    </tr>\n",
       "    <tr>\n",
       "      <th>2</th>\n",
       "      <td>Data Scientist - Newark, CA</td>\n",
       "      <td>Data Scientist - Newark, CA\\nData Scientist\\n\\...</td>\n",
       "      <td>[ Design, develop, document and maintain machi...</td>\n",
       "    </tr>\n",
       "    <tr>\n",
       "      <th>3</th>\n",
       "      <td>Patient Care Assistant / PCA - Med/Surg (Fayet...</td>\n",
       "      <td>Patient Care Assistant / PCA - Med/Surg (Fayet...</td>\n",
       "      <td>[Provides all personal care services in accord...</td>\n",
       "    </tr>\n",
       "    <tr>\n",
       "      <th>4</th>\n",
       "      <td>Scientific Programmer - Berkeley, CA</td>\n",
       "      <td>Scientific Programmer - Berkeley, CA\\nCaribou ...</td>\n",
       "      <td>[Demonstrated proficiency with Python, JavaScr...</td>\n",
       "    </tr>\n",
       "  </tbody>\n",
       "</table>\n",
       "</div>"
      ],
      "text/plain": [
       "                                               title  \\\n",
       "0                 Data Engineer - Columbus, GA 31909   \n",
       "1                       Data Analyst - St. Louis, MO   \n",
       "2                        Data Scientist - Newark, CA   \n",
       "3  Patient Care Assistant / PCA - Med/Surg (Fayet...   \n",
       "4               Scientific Programmer - Berkeley, CA   \n",
       "\n",
       "                                                body  \\\n",
       "0  Data Engineer - Columbus, GA 31909\\nCelebratin...   \n",
       "1  Data Analyst - St. Louis, MO\\nDuties\\nSummary\\...   \n",
       "2  Data Scientist - Newark, CA\\nData Scientist\\n\\...   \n",
       "3  Patient Care Assistant / PCA - Med/Surg (Fayet...   \n",
       "4  Scientific Programmer - Berkeley, CA\\nCaribou ...   \n",
       "\n",
       "                                             bullets  \n",
       "0  [Bachelor’s or Master’s degree in statistics, ...  \n",
       "1  [Job family (Series)\\n1501 General Mathematics...  \n",
       "2  [ Design, develop, document and maintain machi...  \n",
       "3  [Provides all personal care services in accord...  \n",
       "4  [Demonstrated proficiency with Python, JavaScr...  "
      ]
     },
     "execution_count": 4,
     "metadata": {},
     "output_type": "execute_result"
    }
   ],
   "source": [
    "df.head()"
   ]
  },
  {
   "cell_type": "markdown",
   "metadata": {},
   "source": [
    "## Filter to only return data scientist roles"
   ]
  },
  {
   "cell_type": "code",
   "execution_count": 5,
   "metadata": {
    "collapsed": false
   },
   "outputs": [],
   "source": [
    "ds_df = df.loc[df.title.str.contains('Data Scientist'), :]\n",
    "ds_df = ds_df.append(df.loc[df.title.str.contains('Data Science'), :])"
   ]
  },
  {
   "cell_type": "markdown",
   "metadata": {},
   "source": [
    "Drop any duplicate entries"
   ]
  },
  {
   "cell_type": "code",
   "execution_count": 6,
   "metadata": {
    "collapsed": false
   },
   "outputs": [
    {
     "name": "stdout",
     "output_type": "stream",
     "text": [
      "(491, 3)\n",
      "(485, 3)\n"
     ]
    }
   ],
   "source": [
    "ds_df.reset_index(inplace=True, drop=True)\n",
    "print(ds_df.shape)\n",
    "ds_df.drop_duplicates(subset=['title', 'body'], inplace=True)\n",
    "print(ds_df.shape)"
   ]
  },
  {
   "cell_type": "markdown",
   "metadata": {},
   "source": [
    "Check the parsed information in the dataframe"
   ]
  },
  {
   "cell_type": "code",
   "execution_count": 7,
   "metadata": {
    "collapsed": false
   },
   "outputs": [
    {
     "data": {
      "text/html": [
       "<div>\n",
       "<style scoped>\n",
       "    .dataframe tbody tr th:only-of-type {\n",
       "        vertical-align: middle;\n",
       "    }\n",
       "\n",
       "    .dataframe tbody tr th {\n",
       "        vertical-align: top;\n",
       "    }\n",
       "\n",
       "    .dataframe thead th {\n",
       "        text-align: right;\n",
       "    }\n",
       "</style>\n",
       "<table border=\"1\" class=\"dataframe\">\n",
       "  <thead>\n",
       "    <tr style=\"text-align: right;\">\n",
       "      <th></th>\n",
       "      <th>title</th>\n",
       "      <th>body</th>\n",
       "      <th>bullets</th>\n",
       "    </tr>\n",
       "  </thead>\n",
       "  <tbody>\n",
       "    <tr>\n",
       "      <th>0</th>\n",
       "      <td>Data Scientist - Newark, CA</td>\n",
       "      <td>Data Scientist - Newark, CA\\nData Scientist\\n\\...</td>\n",
       "      <td>[ Design, develop, document and maintain machi...</td>\n",
       "    </tr>\n",
       "    <tr>\n",
       "      <th>1</th>\n",
       "      <td>PwC Labs - Jr. Data Scientist - Machine Learni...</td>\n",
       "      <td>PwC Labs - Jr. Data Scientist - Machine Learni...</td>\n",
       "      <td>[Invite and provide evidence-based feedback in...</td>\n",
       "    </tr>\n",
       "    <tr>\n",
       "      <th>2</th>\n",
       "      <td>Senior Data Scientist - Sunnyvale, CA 94089</td>\n",
       "      <td>Senior Data Scientist - Sunnyvale, CA 94089\\nI...</td>\n",
       "      <td>[Ability to mentor and up level junior data sc...</td>\n",
       "    </tr>\n",
       "    <tr>\n",
       "      <th>3</th>\n",
       "      <td>Data Scientist - Seattle, WA</td>\n",
       "      <td>Data Scientist - Seattle, WA\\nMS with 2+ years...</td>\n",
       "      <td>[MS with 2+ years of industry experience or Ba...</td>\n",
       "    </tr>\n",
       "    <tr>\n",
       "      <th>4</th>\n",
       "      <td>Data Scientist - Pasadena, CA 91107</td>\n",
       "      <td>Data Scientist - Pasadena, CA 91107\\nJob Type:...</td>\n",
       "      <td>[Use statistical and programming software comb...</td>\n",
       "    </tr>\n",
       "  </tbody>\n",
       "</table>\n",
       "</div>"
      ],
      "text/plain": [
       "                                               title  \\\n",
       "0                        Data Scientist - Newark, CA   \n",
       "1  PwC Labs - Jr. Data Scientist - Machine Learni...   \n",
       "2        Senior Data Scientist - Sunnyvale, CA 94089   \n",
       "3                       Data Scientist - Seattle, WA   \n",
       "4                Data Scientist - Pasadena, CA 91107   \n",
       "\n",
       "                                                body  \\\n",
       "0  Data Scientist - Newark, CA\\nData Scientist\\n\\...   \n",
       "1  PwC Labs - Jr. Data Scientist - Machine Learni...   \n",
       "2  Senior Data Scientist - Sunnyvale, CA 94089\\nI...   \n",
       "3  Data Scientist - Seattle, WA\\nMS with 2+ years...   \n",
       "4  Data Scientist - Pasadena, CA 91107\\nJob Type:...   \n",
       "\n",
       "                                             bullets  \n",
       "0  [ Design, develop, document and maintain machi...  \n",
       "1  [Invite and provide evidence-based feedback in...  \n",
       "2  [Ability to mentor and up level junior data sc...  \n",
       "3  [MS with 2+ years of industry experience or Ba...  \n",
       "4  [Use statistical and programming software comb...  "
      ]
     },
     "execution_count": 7,
     "metadata": {},
     "output_type": "execute_result"
    }
   ],
   "source": [
    "ds_df.head()"
   ]
  },
  {
   "cell_type": "markdown",
   "metadata": {},
   "source": [
    "## Pickle the object for later use"
   ]
  },
  {
   "cell_type": "code",
   "execution_count": 8,
   "metadata": {
    "collapsed": false
   },
   "outputs": [],
   "source": [
    "pickle.dump(ds_df, open(\"./data/data_science_jobs.pkl\", \"wb\" ))"
   ]
  }
 ],
 "metadata": {
  "anaconda-cloud": {},
  "kernelspec": {
   "display_name": "Python [conda env:Anaconda3]",
   "language": "python",
   "name": "conda-env-Anaconda3-py"
  },
  "language_info": {
   "codemirror_mode": {
    "name": "ipython",
    "version": 3
   },
   "file_extension": ".py",
   "mimetype": "text/x-python",
   "name": "python",
   "nbconvert_exporter": "python",
   "pygments_lexer": "ipython3",
   "version": "3.5.6"
  }
 },
 "nbformat": 4,
 "nbformat_minor": 2
}
